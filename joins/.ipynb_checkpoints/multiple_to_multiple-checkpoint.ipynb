{
 "cells": [
  {
   "cell_type": "markdown",
   "id": "59d0baed-72f6-408c-80e6-dde73aa3a2ab",
   "metadata": {},
   "source": [
    "# Multiple to multiple"
   ]
  },
  {
   "cell_type": "code",
   "execution_count": 1,
   "id": "ce2b0ab1-775e-4f9d-b3f1-b9257f40b5e7",
   "metadata": {},
   "outputs": [],
   "source": [
    "import pandas as pd\n",
    "import numpy as np\n",
    "import sqlite3 \n",
    "\n",
    "connection = sqlite3.connect('../data/vacancy.db')\n",
    "cursor = connection.cursor()\n",
    "\n",
    "def select(query):\n",
    "    try:\n",
    "        return pd.read_sql_query(query, connection)\n",
    "    except:\n",
    "        cursor.executescript(query)\n",
    "        connection.commit()\n"
   ]
  },
  {
   "cell_type": "code",
   "execution_count": null,
   "id": "ed6a7062-7111-44aa-9893-a3259e66e7ea",
   "metadata": {},
   "outputs": [],
   "source": []
  }
 ],
 "metadata": {
  "kernelspec": {
   "display_name": "Python 3 (ipykernel)",
   "language": "python",
   "name": "python3"
  },
  "language_info": {
   "codemirror_mode": {
    "name": "ipython",
    "version": 3
   },
   "file_extension": ".py",
   "mimetype": "text/x-python",
   "name": "python",
   "nbconvert_exporter": "python",
   "pygments_lexer": "ipython3",
   "version": "3.12.3"
  }
 },
 "nbformat": 4,
 "nbformat_minor": 5
}
