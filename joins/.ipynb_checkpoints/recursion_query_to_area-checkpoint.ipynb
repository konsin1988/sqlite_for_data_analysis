{
 "cells": [
  {
   "cell_type": "code",
   "execution_count": 1,
   "id": "0c7f6020-92a9-4b75-9542-a8f2e53b9553",
   "metadata": {},
   "outputs": [],
   "source": [
    "import pandas as pd\n",
    "import numpy as np\n",
    "import sqlite3 \n",
    "\n",
    "connection = sqlite3.connect('../data/vacancy.db')\n",
    "cursor = connection.cursor()\n",
    "\n",
    "def select(query):\n",
    "    try:\n",
    "        return pd.read_sql_query(query, connection)\n",
    "    except:\n",
    "        cursor.executescript(query)\n",
    "        connection.commit()\n"
   ]
  },
  {
   "cell_type": "code",
   "execution_count": 5,
   "id": "1b9862b8-4cc3-4f12-b4c3-b3c282bff7e6",
   "metadata": {},
   "outputs": [
    {
     "data": {
      "text/html": [
       "<div>\n",
       "<style scoped>\n",
       "    .dataframe tbody tr th:only-of-type {\n",
       "        vertical-align: middle;\n",
       "    }\n",
       "\n",
       "    .dataframe tbody tr th {\n",
       "        vertical-align: top;\n",
       "    }\n",
       "\n",
       "    .dataframe thead th {\n",
       "        text-align: right;\n",
       "    }\n",
       "</style>\n",
       "<table border=\"1\" class=\"dataframe\">\n",
       "  <thead>\n",
       "    <tr style=\"text-align: right;\">\n",
       "      <th></th>\n",
       "      <th>id</th>\n",
       "      <th>name</th>\n",
       "      <th>level</th>\n",
       "    </tr>\n",
       "  </thead>\n",
       "  <tbody>\n",
       "    <tr>\n",
       "      <th>0</th>\n",
       "      <td>1</td>\n",
       "      <td>Россия, Москва</td>\n",
       "      <td>2</td>\n",
       "    </tr>\n",
       "  </tbody>\n",
       "</table>\n",
       "</div>"
      ],
      "text/plain": [
       "   id            name  level\n",
       "0   1  Россия, Москва      2"
      ]
     },
     "execution_count": 5,
     "metadata": {},
     "output_type": "execute_result"
    }
   ],
   "source": [
    "query = r'''\n",
    "    WITH RECURSIVE tmp(id, name, level) AS (\n",
    "        SELECT id, name, 1 AS level\n",
    "        FROM area\n",
    "        WHERE parent_id IS NULL\n",
    "    UNION ALL\n",
    "    SELECT \n",
    "        area.id,\n",
    "        tmp.name || ', ' || area.name AS name,\n",
    "        tmp.level + 1 AS level\n",
    "    FROM area\n",
    "        JOIN tmp ON area.parent_id = tmp.id\n",
    "    )\n",
    "    SELECT *\n",
    "    FROM tmp\n",
    "    WHERE name LIKE '%Москва'\n",
    "'''\n",
    "select(query)"
   ]
  },
  {
   "cell_type": "markdown",
   "id": "a13b4413-5d2d-4ce2-b260-d29dd47fb575",
   "metadata": {},
   "source": [
    "### Рекурсивный обход метро\n",
    "\n",
    ">Напишите рекурсивный запрос к таблице metro аналогично тому, как мы сделали для area на предыдущем шаге. Чему равно значение name для id = 48.265?"
   ]
  },
  {
   "cell_type": "code",
   "execution_count": 8,
   "id": "234897f5-3e39-4fdf-ae23-a1534e2aabc0",
   "metadata": {},
   "outputs": [
    {
     "data": {
      "text/html": [
       "<div>\n",
       "<style scoped>\n",
       "    .dataframe tbody tr th:only-of-type {\n",
       "        vertical-align: middle;\n",
       "    }\n",
       "\n",
       "    .dataframe tbody tr th {\n",
       "        vertical-align: top;\n",
       "    }\n",
       "\n",
       "    .dataframe thead th {\n",
       "        text-align: right;\n",
       "    }\n",
       "</style>\n",
       "<table border=\"1\" class=\"dataframe\">\n",
       "  <thead>\n",
       "    <tr style=\"text-align: right;\">\n",
       "      <th></th>\n",
       "      <th>id</th>\n",
       "      <th>name</th>\n",
       "      <th>level</th>\n",
       "    </tr>\n",
       "  </thead>\n",
       "  <tbody>\n",
       "    <tr>\n",
       "      <th>0</th>\n",
       "      <td>48.265</td>\n",
       "      <td>Екатеринбург, Север-Юг, Динамо</td>\n",
       "      <td>3</td>\n",
       "    </tr>\n",
       "  </tbody>\n",
       "</table>\n",
       "</div>"
      ],
      "text/plain": [
       "       id                            name  level\n",
       "0  48.265  Екатеринбург, Север-Юг, Динамо      3"
      ]
     },
     "execution_count": 8,
     "metadata": {},
     "output_type": "execute_result"
    }
   ],
   "source": [
    "query = r'''\n",
    "    WITH RECURSIVE metro_tmp(id, name, level) AS (\n",
    "    SELECT id, name, 1 AS level\n",
    "    FROM metro\n",
    "    WHERE parent_id IS NULL\n",
    "    \n",
    "    UNION ALL\n",
    "    \n",
    "    SELECT \n",
    "        mt.id,\n",
    "        metro_tmp.name || ', ' || mt.name AS name,\n",
    "        metro_tmp.level + 1 AS level\n",
    "    FROM metro mt\n",
    "        JOIN metro_tmp ON metro_tmp.id = mt.parent_id\n",
    "    )\n",
    "    SELECT * \n",
    "    FROM metro_tmp\n",
    "    WHERE id = '48.265'\n",
    "'''\n",
    "select(query)"
   ]
  },
  {
   "cell_type": "code",
   "execution_count": null,
   "id": "bff67907-a468-4ab5-9cc2-b59f9c9a0696",
   "metadata": {},
   "outputs": [],
   "source": []
  },
  {
   "cell_type": "code",
   "execution_count": null,
   "id": "32f02fc0-76de-4d49-92ea-946b6a051fee",
   "metadata": {},
   "outputs": [],
   "source": []
  }
 ],
 "metadata": {
  "kernelspec": {
   "display_name": "Python 3 (ipykernel)",
   "language": "python",
   "name": "python3"
  },
  "language_info": {
   "codemirror_mode": {
    "name": "ipython",
    "version": 3
   },
   "file_extension": ".py",
   "mimetype": "text/x-python",
   "name": "python",
   "nbconvert_exporter": "python",
   "pygments_lexer": "ipython3",
   "version": "3.12.3"
  }
 },
 "nbformat": 4,
 "nbformat_minor": 5
}
