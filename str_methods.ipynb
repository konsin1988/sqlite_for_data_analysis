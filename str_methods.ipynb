{
 "cells": [
  {
   "cell_type": "markdown",
   "id": "da558869-20e9-4598-b10e-b2126fa6cbea",
   "metadata": {},
   "source": [
    "### Поиск по строке с помощью GLOB\n",
    "\n",
    "GLOB — не стандартный SQL-оператор. Это такой «LIKE на стероидах». Если LIKE поддерживает только _ (один символ) и % (что угодно), то GLOB умеет:\n",
    "\n",
    "    ? — один символ (аналог _ у LIKE),\n",
    "    * — что угодно (аналог % у LIKE),\n",
    "    [...] — один символ из перечисленных в скобках,\n",
    "    [^...] — один символ, кроме перечисленных в скобках.\n",
    "\n",
    "Например, [0-9][^abc]? расшифровывается как «любая цифра, затем любой символ кроме a, b, c, затем еще один символ»."
   ]
  },
  {
   "cell_type": "markdown",
   "id": "18bf8c7b-babd-4447-a968-f82e86dfa41e",
   "metadata": {},
   "source": [
    "### length(X)\n",
    "\n",
    "Возвращает количество символов в строке X."
   ]
  },
  {
   "cell_type": "markdown",
   "id": "b11a11ea-5d38-483e-8ace-e67b57036008",
   "metadata": {},
   "source": [
    "### instr(X, Y)\n",
    "\n",
    "Находит первое вхождение строки Y внутри строки X и возвращает порядковый номер символа, с которого оно начинается. Если Y не найдена внутри X, возвращает 0. Например:"
   ]
  },
  {
   "cell_type": "markdown",
   "id": "2d2ac87e-7a47-4336-885b-970816a12e2c",
   "metadata": {},
   "source": [
    "### substr(X, Y, Z), substr(X, Y)\n",
    "\n",
    "Возвращает фрагмент строки X, который начинается с Y-го символа и имеет длину Z символов. Если Z не указано, возвращает фрагмент от Y-го символа до конца строки. Первый символ имеет номер 1"
   ]
  },
  {
   "cell_type": "markdown",
   "id": "736b1dc3-40ec-4942-975a-fbec0ed2907a",
   "metadata": {},
   "source": [
    "### replace(X, Y, Z)\n",
    "\n",
    "Заменяет все фрагменты Y на фрагмент Z в строке X и возвращает получившуюся строку."
   ]
  },
  {
   "cell_type": "code",
   "execution_count": null,
   "id": "b88e6c5e-abe3-470d-9685-2b38eeb7208e",
   "metadata": {},
   "outputs": [],
   "source": []
  }
 ],
 "metadata": {
  "kernelspec": {
   "display_name": "Python 3 (ipykernel)",
   "language": "python",
   "name": "python3"
  },
  "language_info": {
   "codemirror_mode": {
    "name": "ipython",
    "version": 3
   },
   "file_extension": ".py",
   "mimetype": "text/x-python",
   "name": "python",
   "nbconvert_exporter": "python",
   "pygments_lexer": "ipython3",
   "version": "3.12.3"
  }
 },
 "nbformat": 4,
 "nbformat_minor": 5
}
